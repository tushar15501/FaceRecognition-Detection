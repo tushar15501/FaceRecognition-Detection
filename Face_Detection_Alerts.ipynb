{
 "cells": [
  {
   "cell_type": "code",
   "execution_count": 27,
   "id": "ee78e3c7",
   "metadata": {},
   "outputs": [],
   "source": [
    "import cv2\n",
    "import numpy as np\n",
    "import os\n",
    "import sys\n",
    "import time\n",
    "import smtplib\n",
    "import pywhatkit as kit\n",
    "import smtplib\n",
    "from email.mime.text import MIMEText\n",
    "from email.mime.multipart import MIMEMultipart\n",
    "from email.mime.image import MIMEImage"
   ]
  },
  {
   "cell_type": "code",
   "execution_count": 28,
   "id": "25efe067",
   "metadata": {},
   "outputs": [],
   "source": [
    "import smtplib\n",
    "from email.mime.multipart import MIMEMultipart\n",
    "from email.mime.text import MIMEText\n",
    "from email.mime.image import MIMEImage\n",
    "\n",
    "def send_email(subject, body, image_path):\n",
    "    \n",
    "    sender_email = os.environ.get('SENDER_MAIL')\n",
    "    sender_password = os.environ.get('SENDER_PASSWORD')\n",
    "    receiver_email = os.environ.get('RECEIVER_MAIL')\n",
    "\n",
    "    # Creating message object instance\n",
    "    message = MIMEMultipart()\n",
    "\n",
    "    # Setting the message subject, body, and image attachment\n",
    "    message['Subject'] = subject\n",
    "    message.attach(MIMEText(body, 'plain'))\n",
    "    \n",
    "    try:\n",
    "        with open(image_path, 'rb') as fp:\n",
    "            img = MIMEImage(fp.read())\n",
    "            img.add_header('Content-Disposition', 'attachment', filename='facelock.jpg')\n",
    "            message.attach(img)\n",
    "    except Exception as e:\n",
    "        print(\"Error attaching image:\", e)\n",
    "        return\n",
    "\n",
    "    # Create SMTP session\n",
    "    mtpObj = smtplib.SMTP('smtp.gmail.com', 587)\n",
    "    mtpObj.starttls()\n",
    "    mtpObj.login(sender_email, sender_password)\n",
    "\n",
    "    # Sending email\n",
    "    mtpObj.sendmail(sender_email, receiver_email, message.as_string())\n",
    "\n",
    "    # Terminating the SMTP session\n",
    "    mtpObj.quit()\n",
    "    \n",
    "    print(\"Email sent successfully!\")\n",
    "\n"
   ]
  },
  {
   "cell_type": "code",
   "execution_count": 29,
   "id": "9860b044",
   "metadata": {},
   "outputs": [],
   "source": [
    "def send_whatsapp_message(message):\n",
    "    kit.sendwhatmsg_instantly(\"+919834452882\", message)\n",
    "    print(\"WhatsApp message sent successfully!\")\n"
   ]
  },
  {
   "cell_type": "code",
   "execution_count": 64,
   "id": "87648371",
   "metadata": {},
   "outputs": [
    {
     "name": "stdout",
     "output_type": "stream",
     "text": [
      "Access Denied with confidence score of   18%\n",
      "Email sent successfully!\n",
      "WhatsApp message sent successfully!\n"
     ]
    },
    {
     "ename": "SystemExit",
     "evalue": "",
     "output_type": "error",
     "traceback": [
      "An exception has occurred, use %tb to see the full traceback.\n",
      "\u001b[1;31mSystemExit\u001b[0m\n"
     ]
    }
   ],
   "source": [
    "# Initializing LBPH face recognizer and loading the trained model\n",
    "\n",
    "recognizer = cv2.face.LBPHFaceRecognizer_create()\n",
    "recognizer.read('trainer/trainer.yml')\n",
    "\n",
    "# Initializing Haar cascade classifier for face detection\n",
    "\n",
    "cascadePath = \"haarcascade_frontalface_alt2.xml\"\n",
    "faceCascade = cv2.CascadeClassifier(cascadePath)\n",
    "\n",
    "# Initializing font for displaying text on image\n",
    "\n",
    "font = cv2.FONT_HERSHEY_SIMPLEX\n",
    "\n",
    "# Define IDs and names for recognized faces\n",
    "\n",
    "names = ['Anonymous', 'Tushar', 'Dhoni', 'Akshay', 'Hulk', 'Virat','Adam']\n",
    "\n",
    "# Initializing and starting real-time video capture\n",
    "\n",
    "cam = cv2.VideoCapture(0,cv2.CAP_DSHOW)\n",
    "cam.set(3, 640) \n",
    "cam.set(4, 480) \n",
    "\n",
    "# Defining min window size to be recognized as a face\n",
    "\n",
    "minW = 0.1 * cam.get(3)\n",
    "minH = 0.1 * cam.get(4)\n",
    "\n",
    "while True:\n",
    "    ret, img = cam.read()\n",
    "    img = cv2.flip(img, 1) \n",
    "    gray = cv2.cvtColor(img, cv2.COLOR_BGR2GRAY)\n",
    "    \n",
    "    faces = faceCascade.detectMultiScale(gray, scaleFactor=1.1, minNeighbors=5, minSize=(int(minW), int(minH)))\n",
    "    if len(faces) == 0:\n",
    "        cv2.imshow('Face Detection',img) \n",
    "    else:\n",
    "        for (x, y, w, h) in faces:\n",
    "            cv2.rectangle(img, (x, y), (x + w, y + h), (0, 255, 0), 2)\n",
    "            id, confidence = recognizer.predict(gray[y:y+h, x:x+w])\n",
    "\n",
    "        # Check if confidence is less than 100 ==> \"0\" is perfect match \n",
    "        \n",
    "        if confidence < 80:\n",
    "            id = names[id]\n",
    "            confidence = \"  {0}%\".format(round(abs(100 - confidence)))\n",
    "            print(\"Access Granted with confidence score of\", confidence)\n",
    "            cam.release()\n",
    "            cv2.destroyAllWindows()\n",
    "            sys.exit()\n",
    "        else:\n",
    "            id = \"Anonymous\"\n",
    "            confidence = \"  {0}%\".format(round(abs(100 - confidence)))\n",
    "            cropped = img[y:y+h, x:x+w]\n",
    "            #cropped = img[y-50:y+h+50, x-50:x+w+50]\n",
    "            cv2.imwrite('unknown.jpg', cropped)\n",
    "            print(\"Access Denied with confidence score of\", confidence)\n",
    "            send_email(\"Intruder Alert\", \"An Unknown face Detected!\", \"unknown.jpg\")\n",
    "            send_whatsapp_message(\"Intruder Alert! An Unknown face has been detected.\")\n",
    "            cam.release()\n",
    "            cv2.destroyAllWindows()\n",
    "            sys.exit()\n",
    "\n",
    "\n",
    "    cv2.imshow('Face Detection',img) \n",
    "\n",
    "    k = cv2.waitKey(10) & 0xff # Press 'Enter Key' for exiting video\n",
    "    if k == 13:\n",
    "        break\n",
    "\n",
    "\n",
    "        \n",
    "print(\"\\n Exiting Program...\")\n",
    "cam.release()\n",
    "cv2.destroyAllWindows()\n",
    "\n"
   ]
  },
  {
   "cell_type": "code",
   "execution_count": 49,
   "id": "cd27ca54",
   "metadata": {
    "scrolled": true
   },
   "outputs": [],
   "source": [
    "os.environ['RECEIVER_MAIL'] = 'tushar.21910413@viit.ac.in'"
   ]
  },
  {
   "cell_type": "code",
   "execution_count": 31,
   "id": "1aa37af1",
   "metadata": {},
   "outputs": [],
   "source": [
    "os.environ['SENDER_MAIL'] = 'joshitushar210@gmail.com'"
   ]
  },
  {
   "cell_type": "code",
   "execution_count": 32,
   "id": "f2a1b73d",
   "metadata": {},
   "outputs": [],
   "source": [
    "os.environ['SENDER_PASSWORD'] = 'oxqjaxzozycdebvy'"
   ]
  },
  {
   "cell_type": "code",
   "execution_count": 33,
   "id": "796a569d",
   "metadata": {},
   "outputs": [],
   "source": [
    "os.environ['CONTACT_NO'] = '+919834452882'"
   ]
  },
  {
   "cell_type": "code",
   "execution_count": 34,
   "id": "f622fb31",
   "metadata": {},
   "outputs": [
    {
     "data": {
      "text/plain": [
       "environ{'ALLUSERSPROFILE': 'C:\\\\ProgramData',\n",
       "        'APPDATA': 'C:\\\\Users\\\\hp\\\\AppData\\\\Roaming',\n",
       "        'COMMONPROGRAMFILES': 'C:\\\\Program Files\\\\Common Files',\n",
       "        'COMMONPROGRAMFILES(X86)': 'C:\\\\Program Files (x86)\\\\Common Files',\n",
       "        'COMMONPROGRAMW6432': 'C:\\\\Program Files\\\\Common Files',\n",
       "        'COMPUTERNAME': 'LAPTOP-7HHHL000',\n",
       "        'COMSPEC': 'C:\\\\WINDOWS\\\\system32\\\\cmd.exe',\n",
       "        'DRIVERDATA': 'C:\\\\Windows\\\\System32\\\\Drivers\\\\DriverData',\n",
       "        'EFC_7344': '1',\n",
       "        'HOMEDRIVE': 'C:',\n",
       "        'HOMEPATH': '\\\\Users\\\\hp',\n",
       "        'LOCALAPPDATA': 'C:\\\\Users\\\\hp\\\\AppData\\\\Local',\n",
       "        'LOGONSERVER': '\\\\\\\\LAPTOP-7HHHL000',\n",
       "        'NUMBER_OF_PROCESSORS': '8',\n",
       "        'ONEDRIVE': 'C:\\\\Users\\\\hp\\\\OneDrive',\n",
       "        'ONLINESERVICES': 'Online Services',\n",
       "        'OS': 'Windows_NT',\n",
       "        'PATH': 'C:\\\\Users\\\\hp\\\\anaconda3;C:\\\\Users\\\\hp\\\\anaconda3\\\\Library\\\\mingw-w64\\\\bin;C:\\\\Users\\\\hp\\\\anaconda3\\\\Library\\\\usr\\\\bin;C:\\\\Users\\\\hp\\\\anaconda3\\\\Library\\\\bin;C:\\\\Users\\\\hp\\\\anaconda3\\\\Scripts;C:\\\\Program Files (x86)\\\\Common Files\\\\Oracle\\\\Java\\\\javapath;C:\\\\windows\\\\system32;C:\\\\windows;C:\\\\windows\\\\System32\\\\Wbem;C:\\\\windows\\\\System32\\\\WindowsPowerShell\\\\v1.0\\\\;C:\\\\windows\\\\System32\\\\OpenSSH\\\\;C:\\\\Program Files (x86)\\\\NVIDIA Corporation\\\\PhysX\\\\Common;C:\\\\Program Files\\\\NVIDIA Corporation\\\\NVIDIA NvDLISR;C:\\\\Git\\\\cmd;C:\\\\Program Files\\\\Matlab\\\\R2020a\\\\runtime\\\\win64;C:\\\\Program Files\\\\Matlab\\\\R2020a\\\\bin;C:\\\\Program Files\\\\Matlab\\\\R2020a\\\\polyspace\\\\bin;C:\\\\Program Files (x86)\\\\Microsoft\\\\Edge\\\\Application;C:\\\\Program Files (x86)\\\\Google\\\\Chrome\\\\Application;C:\\\\Program Files\\\\Quick Heal\\\\Quick Heal AntiVirus Pro;C:\\\\Program Files (x86)\\\\VideoLAN\\\\VLC;C:\\\\Program Files (x86)\\\\Windows Media Player;C:\\\\WINDOWS\\\\system32;C:\\\\WINDOWS;C:\\\\WINDOWS\\\\System32\\\\Wbem;C:\\\\WINDOWS\\\\System32\\\\WindowsPowerShell\\\\v1.0\\\\;C:\\\\WINDOWS\\\\System32\\\\OpenSSH\\\\;C:\\\\Program Files\\\\Git\\\\cmd;C:\\\\Program Files\\\\Amazon\\\\AWSCLIV2\\\\;C:\\\\WINDOWS\\\\system32;C:\\\\WINDOWS;C:\\\\WINDOWS\\\\System32\\\\Wbem;C:\\\\WINDOWS\\\\System32\\\\WindowsPowerShell\\\\v1.0\\\\;C:\\\\WINDOWS\\\\System32\\\\OpenSSH\\\\;C:\\\\Users\\\\hp\\\\anaconda3;C:\\\\Users\\\\hp\\\\anaconda3\\\\Library\\\\mingw-w64\\\\bin;C:\\\\Users\\\\hp\\\\anaconda3\\\\Library\\\\usr\\\\bin;C:\\\\Users\\\\hp\\\\anaconda3\\\\Library\\\\bin;C:\\\\Users\\\\hp\\\\anaconda3\\\\Scripts;C:\\\\Program Files\\\\MySQL\\\\MySQL Shell 8.0\\\\bin\\\\;C:\\\\Users\\\\hp\\\\AppData\\\\Local\\\\Microsoft\\\\WindowsApps;C:\\\\Program Files\\\\Oracle\\\\VirtualBox;C:\\\\Users\\\\hp\\\\AppData\\\\Local\\\\Microsoft\\\\WindowsApps;C:\\\\Program Files\\\\Kubernetes\\\\Minikube;C:\\\\Program Files\\\\Perforce;C:\\\\Program Files (x86)\\\\Microsoft SDKs\\\\Azure\\\\CLI2\\\\python.exe;C:\\\\Users\\\\hp\\\\eclipse\\\\java-2020-12\\\\eclipse\\\\eclipse.exe;C:\\\\Users\\\\hp\\\\AppData\\\\Roaming\\\\Microsoft\\\\Windows\\\\Start Menu\\\\Programs\\\\Anaconda3 (64-bit);C:\\\\Program Files\\\\nodejs;C:\\\\flutter_windows_2.2.1-stable\\\\flutter\\\\bin;C:\\\\Program Files (x86)\\\\windows-amd64;C:\\\\xampp;C:\\\\Program Files\\\\dart-sdk\\\\bin;C:\\\\Program Files\\\\JetBrains\\\\PyCharm Community Edition 2022.2.3\\\\bin;D:\\\\flutter\\\\bin;C:\\\\Users\\\\hp\\\\AppData\\\\Local\\\\Programs\\\\Microsoft VS Code\\\\bin;C:\\\\Program Files\\\\Android\\\\Android Studio_new;D:\\\\flutter\\\\bin;C:\\\\Users\\\\hp\\\\AppData\\\\Local\\\\Pub\\\\Cache\\\\bin;C:\\\\Program Files\\\\Android\\\\Android Studio;C:\\\\ProgramData\\\\Microsoft\\\\Windows\\\\Start Menu\\\\Programs\\\\CMake;C:\\\\Users\\\\hp\\\\cmake-3.26.3;',\n",
       "        'PATHEXT': '.COM;.EXE;.BAT;.CMD;.VBS;.VBE;.JS;.JSE;.WSF;.WSH;.MSC',\n",
       "        'PLATFORMCODE': 'KV',\n",
       "        'PROCESSOR_ARCHITECTURE': 'AMD64',\n",
       "        'PROCESSOR_IDENTIFIER': 'Intel64 Family 6 Model 158 Stepping 10, GenuineIntel',\n",
       "        'PROCESSOR_LEVEL': '6',\n",
       "        'PROCESSOR_REVISION': '9e0a',\n",
       "        'PROGRAMDATA': 'C:\\\\ProgramData',\n",
       "        'PROGRAMFILES': 'C:\\\\Program Files',\n",
       "        'PROGRAMFILES(X86)': 'C:\\\\Program Files (x86)',\n",
       "        'PROGRAMW6432': 'C:\\\\Program Files',\n",
       "        'PSMODULEPATH': 'C:\\\\Program Files\\\\WindowsPowerShell\\\\Modules;C:\\\\WINDOWS\\\\system32\\\\WindowsPowerShell\\\\v1.0\\\\Modules',\n",
       "        'PUBLIC': 'C:\\\\Users\\\\Public',\n",
       "        'PYCHARM COMMUNITY EDITION': 'C:\\\\Program Files\\\\JetBrains\\\\PyCharm Community Edition 2022.2.3\\\\bin;',\n",
       "        'REGIONCODE': 'APJ',\n",
       "        'SESSIONNAME': 'Console',\n",
       "        'SYSTEMDRIVE': 'C:',\n",
       "        'SYSTEMROOT': 'C:\\\\WINDOWS',\n",
       "        'TEMP': 'C:\\\\Users\\\\hp\\\\AppData\\\\Local\\\\Temp',\n",
       "        'TMP': 'C:\\\\Users\\\\hp\\\\AppData\\\\Local\\\\Temp',\n",
       "        'USERDOMAIN': 'LAPTOP-7HHHL000',\n",
       "        'USERDOMAIN_ROAMINGPROFILE': 'LAPTOP-7HHHL000',\n",
       "        'USERNAME': 'hp',\n",
       "        'USERPROFILE': 'C:\\\\Users\\\\hp',\n",
       "        'VBOX_MSI_INSTALL_PATH': 'C:\\\\Program Files\\\\Oracle\\\\VirtualBox\\\\',\n",
       "        'WINDIR': 'C:\\\\WINDOWS',\n",
       "        'CONDA_PREFIX': 'C:\\\\Users\\\\hp\\\\anaconda3',\n",
       "        'JPY_INTERRUPT_EVENT': '2312',\n",
       "        'IPY_INTERRUPT_EVENT': '2312',\n",
       "        'JPY_PARENT_PID': '2368',\n",
       "        'TERM': 'xterm-color',\n",
       "        'CLICOLOR': '1',\n",
       "        'PAGER': 'cat',\n",
       "        'GIT_PAGER': 'cat',\n",
       "        'MPLBACKEND': 'module://ipykernel.pylab.backend_inline',\n",
       "        'RECEIVER_MAIL': 'tushar.21910413@viit.ac.in',\n",
       "        'SENDER_MAIL': 'joshitushar210@gmail.com',\n",
       "        'SENDER_PASSWORD': 'oxqjaxzozycdebvy',\n",
       "        'CONTACT_NO': '+919834452882'}"
      ]
     },
     "execution_count": 34,
     "metadata": {},
     "output_type": "execute_result"
    }
   ],
   "source": [
    "os.environ"
   ]
  },
  {
   "cell_type": "code",
   "execution_count": null,
   "id": "f7a10bc2",
   "metadata": {},
   "outputs": [],
   "source": []
  }
 ],
 "metadata": {
  "kernelspec": {
   "display_name": "Python 3",
   "language": "python",
   "name": "python3"
  },
  "language_info": {
   "codemirror_mode": {
    "name": "ipython",
    "version": 3
   },
   "file_extension": ".py",
   "mimetype": "text/x-python",
   "name": "python",
   "nbconvert_exporter": "python",
   "pygments_lexer": "ipython3",
   "version": "3.8.8"
  }
 },
 "nbformat": 4,
 "nbformat_minor": 5
}
