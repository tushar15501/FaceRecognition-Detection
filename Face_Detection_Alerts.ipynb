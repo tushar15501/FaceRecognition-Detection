{
 "cells": [
  {
   "cell_type": "code",
   "execution_count": 2,
   "id": "ee78e3c7",
   "metadata": {},
   "outputs": [],
   "source": [
    "import cv2\n",
    "import numpy as np\n",
    "import os\n",
    "import sys\n",
    "import time\n",
    "import smtplib\n",
    "import pywhatkit as kit\n",
    "import smtplib\n",
    "from email.mime.text import MIMEText\n",
    "from email.mime.multipart import MIMEMultipart\n",
    "from email.mime.image import MIMEImage"
   ]
  },
  {
   "cell_type": "code",
   "execution_count": 3,
   "id": "25efe067",
   "metadata": {},
   "outputs": [],
   "source": [
    "import smtplib\n",
    "from email.mime.multipart import MIMEMultipart\n",
    "from email.mime.text import MIMEText\n",
    "from email.mime.image import MIMEImage\n",
    "\n",
    "def send_email(subject, body, image_path):\n",
    "    \n",
    "    sender_email = os.environ.get('SENDER_MAIL')\n",
    "    sender_password = os.environ.get('SENDER_PASSWORD')\n",
    "    receiver_email = os.environ.get('RECEIVER_MAIL')\n",
    "\n",
    "    # Creating message object instance\n",
    "    message = MIMEMultipart()\n",
    "\n",
    "    # Setting the message subject, body, and image attachment\n",
    "    message['Subject'] = subject\n",
    "    message.attach(MIMEText(body, 'plain'))\n",
    "    \n",
    "    try:\n",
    "        with open(image_path, 'rb') as fp:\n",
    "            img = MIMEImage(fp.read())\n",
    "            img.add_header('Content-Disposition', 'attachment', filename='facelock.jpg')\n",
    "            message.attach(img)\n",
    "    except Exception as e:\n",
    "        print(\"Error attaching image:\", e)\n",
    "        return\n",
    "\n",
    "    # Create SMTP session\n",
    "    mtpObj = smtplib.SMTP('smtp.gmail.com', 587)\n",
    "    mtpObj.starttls()\n",
    "    mtpObj.login(sender_email, sender_password)\n",
    "\n",
    "    # Sending email\n",
    "    mtpObj.sendmail(sender_email, receiver_email, message.as_string())\n",
    "\n",
    "    # Terminating the SMTP session\n",
    "    mtpObj.quit()\n",
    "    \n",
    "    print(\"Email sent successfully!\")\n",
    "\n"
   ]
  },
  {
   "cell_type": "code",
   "execution_count": 4,
   "id": "9860b044",
   "metadata": {},
   "outputs": [],
   "source": [
    "def send_whatsapp_message(message):\n",
    "    kit.sendwhatmsg_instantly(\"+919834452882\", message)\n",
    "    print(\"WhatsApp message sent successfully!\")\n"
   ]
  },
  {
   "cell_type": "code",
   "execution_count": 12,
   "id": "87648371",
   "metadata": {},
   "outputs": [
    {
     "name": "stdout",
     "output_type": "stream",
     "text": [
      "Access Denied with confidence score of   -36%\n",
      "Email sent successfully!\n",
      "WhatsApp message sent successfully!\n"
     ]
    },
    {
     "ename": "SystemExit",
     "evalue": "",
     "output_type": "error",
     "traceback": [
      "An exception has occurred, use %tb to see the full traceback.\n",
      "\u001b[1;31mSystemExit\u001b[0m\n"
     ]
    }
   ],
   "source": [
    "# Initializing LBPH face recognizer and loading the trained model\n",
    "\n",
    "recognizer = cv2.face.LBPHFaceRecognizer_create()\n",
    "recognizer.read('trainer/trainer.yml')\n",
    "\n",
    "# Initializing Haar cascade classifier for face detection\n",
    "\n",
    "cascadePath = \"haarcascade_frontalface_alt2.xml\"\n",
    "faceCascade = cv2.CascadeClassifier(cascadePath)\n",
    "\n",
    "# Initializing font for displaying text on image\n",
    "\n",
    "font = cv2.FONT_HERSHEY_SIMPLEX\n",
    "\n",
    "# Define IDs and names for recognized faces\n",
    "\n",
    "names = ['Anonymous', 'Tushar', 'Dhoni', 'Akshay', 'Hulk', 'Virat','Adam']\n",
    "\n",
    "# Initializing and starting real-time video capture\n",
    "\n",
    "cam = cv2.VideoCapture(0,cv2.CAP_DSHOW)\n",
    "cam.set(3, 640) \n",
    "cam.set(4, 480) \n",
    "\n",
    "# Defining min window size to be recognized as a face\n",
    "\n",
    "minW = 0.1 * cam.get(3)\n",
    "minH = 0.1 * cam.get(4)\n",
    "\n",
    "while True:\n",
    "    ret, img = cam.read()\n",
    "    img = cv2.flip(img, 1) \n",
    "    gray = cv2.cvtColor(img, cv2.COLOR_BGR2GRAY)\n",
    "    \n",
    "    faces = faceCascade.detectMultiScale(gray, scaleFactor=1.1, minNeighbors=5, minSize=(int(minW), int(minH)))\n",
    "\n",
    "    for (x, y, w, h) in faces:\n",
    "        cv2.rectangle(img, (x, y), (x + w, y + h), (0, 255, 0), 2)\n",
    "        id, confidence = recognizer.predict(gray[y:y+h, x:x+w])\n",
    "\n",
    "        # Check if confidence is less than 100 ==> \"0\" is perfect match \n",
    "        \n",
    "        if confidence < 100:\n",
    "            id = names[id]\n",
    "            confidence = \"  {0}%\".format(round(100 - confidence))\n",
    "            print(\"Access Granted with confidence score of\", confidence)\n",
    "            cam.release()\n",
    "            cv2.destroyAllWindows()\n",
    "            sys.exit()\n",
    "        else:\n",
    "            id = \"Anonymous\"\n",
    "            confidence = \"  {0}%\".format(round(100 - confidence))\n",
    "            #cropped = img[y:y+h, x:x+w]\n",
    "            cropped = img[y-50:y+h+50, x-50:x+w+50]\n",
    "            cv2.imwrite('unknown.jpg', cropped)\n",
    "            print(\"Access Denied with confidence score of\", confidence)\n",
    "            send_email(\"Intruder Alert\", \"An Unknown face Detected!\", \"unknown.jpg\")\n",
    "            send_whatsapp_message(\"Intruder Alert! An Unknown face has been detected.\")\n",
    "            cam.release()\n",
    "            cv2.destroyAllWindows()\n",
    "            sys.exit()\n",
    "\n",
    "\n",
    "    cv2.imshow('Face Detection',img) \n",
    "\n",
    "    k = cv2.waitKey(10) & 0xff # Press 'Enter Key' for exiting video\n",
    "    if k == 13:\n",
    "        break\n",
    "\n",
    "\n",
    "print(\"\\n Exiting Program...\")\n",
    "cam.release()\n",
    "cv2.destroyAllWindows()\n"
   ]
  },
  {
   "cell_type": "code",
   "execution_count": 8,
   "id": "cd27ca54",
   "metadata": {
    "scrolled": true
   },
   "outputs": [],
   "source": [
    "os.environ['RECEIVER_MAIL'] = 'tushar.21910413@viit.ac.in'"
   ]
  },
  {
   "cell_type": "code",
   "execution_count": 9,
   "id": "1aa37af1",
   "metadata": {},
   "outputs": [],
   "source": [
    "os.environ['SENDER_MAIL'] = 'joshitushar210@gmail.com'"
   ]
  },
  {
   "cell_type": "code",
   "execution_count": 10,
   "id": "f2a1b73d",
   "metadata": {},
   "outputs": [],
   "source": [
    "os.environ['SENDER_PASSWORD'] = 'oxqjaxzozycdebvy'"
   ]
  },
  {
   "cell_type": "code",
   "execution_count": 11,
   "id": "796a569d",
   "metadata": {},
   "outputs": [],
   "source": [
    "os.environ['CONTACT_NO'] = '+919834452882'"
   ]
  },
  {
   "cell_type": "code",
   "execution_count": null,
   "id": "0d53cefc",
   "metadata": {},
   "outputs": [],
   "source": [
    "# Check if confidence is less them 100 ==> \"0\" is perfect match \n",
    "        if (confidence < 100):\n",
    "            id = names[id]\n",
    "            confidence = \"  {0}%\".format(round(100 - confidence))\n",
    "        else:\n",
    "            id = \"unknown\"\n",
    "            confidence = \"  {0}%\".format(round(100 - confidence))\n",
    "            "
   ]
  },
  {
   "cell_type": "code",
   "execution_count": null,
   "id": "ac7306c6",
   "metadata": {},
   "outputs": [],
   "source": [
    "cv2.putText(img, str(id), (x+5,y-5), font, 1, (255,255,255), 2)\n",
    "cv2.putText(img, str(confidence), (x+5,y+h-5), font, 1, (255,255,0), 1)  "
   ]
  },
  {
   "cell_type": "code",
   "execution_count": null,
   "id": "89fde513",
   "metadata": {},
   "outputs": [],
   "source": [
    "if (confidence < 100):\n",
    "            if id in range(len(names)):\n",
    "                name = names[id]\n",
    "            else:\n",
    "                name = \"Anonymous\"\n",
    "                confidence = \"  {0}%\".format(round(100 - confidence))\n",
    "                \n",
    "                # Crop the image and send email\n",
    "                cropped = img[y:y+h, x:x+w]\n",
    "                cv2.imwrite('unknown.jpg', cropped)\n",
    "                send_email(\"Intruder Alert\", \"An Unknown face Detected!\", \"unknown.jpg\")\n",
    "\n",
    "                # Send WhatsApp message\n",
    "                pw.sendwhatmsg(phone_num, message)  \n",
    "\n",
    "        else:\n",
    "            name = \"Anonymous\"\n",
    "            confidence = \"  {0}%\".format(round(100 - confidence)"
   ]
  }
 ],
 "metadata": {
  "kernelspec": {
   "display_name": "Python 3",
   "language": "python",
   "name": "python3"
  },
  "language_info": {
   "codemirror_mode": {
    "name": "ipython",
    "version": 3
   },
   "file_extension": ".py",
   "mimetype": "text/x-python",
   "name": "python",
   "nbconvert_exporter": "python",
   "pygments_lexer": "ipython3",
   "version": "3.8.8"
  }
 },
 "nbformat": 4,
 "nbformat_minor": 5
}
