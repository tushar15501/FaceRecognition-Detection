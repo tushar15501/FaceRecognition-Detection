{
 "cells": [
  {
   "cell_type": "code",
   "execution_count": 4,
   "id": "f6aa5154",
   "metadata": {},
   "outputs": [],
   "source": [
    "import cv2\n",
    "import numpy as np\n",
    "from PIL import Image\n",
    "import os"
   ]
  },
  {
   "cell_type": "code",
   "execution_count": 5,
   "id": "38a40382",
   "metadata": {},
   "outputs": [
    {
     "name": "stdout",
     "output_type": "stream",
     "text": [
      "\n",
      " Training faces. Wait ...\n",
      "\n",
      " 6 faces trained. Exiting Program\n"
     ]
    }
   ],
   "source": [
    "# Set Path for the face image dataset\n",
    "\n",
    "path = 'dataset/'\n",
    "\n",
    "recognizer = cv2.face.LBPHFaceRecognizer_create()\n",
    "detector = cv2.CascadeClassifier(\"haarcascade_frontalface_alt2.xml\");\n",
    "\n",
    "# function to get the images and label data\n",
    "\n",
    "def getImagesAndLabels(path):\n",
    "\n",
    "    imagePaths = [os.path.join(path,f) for f in os.listdir(path)]     \n",
    "    faceSamples=[]\n",
    "    ids = []\n",
    "\n",
    "    for imagePath in imagePaths:\n",
    "\n",
    "        PIL_img = Image.open(imagePath).convert('L') # convert it to grayscale\n",
    "        img_numpy = np.array(PIL_img,'uint8')\n",
    "\n",
    "        id = int(os.path.split(imagePath)[-1].split(\".\")[1])\n",
    "        faces = detector.detectMultiScale(img_numpy)\n",
    "\n",
    "        for (x,y,w,h) in faces:\n",
    "            faceSamples.append(img_numpy[y:y+h,x:x+w])\n",
    "            ids.append(id)\n",
    "\n",
    "    return faceSamples,ids\n",
    "\n",
    "print (\"\\n Training faces. Wait ...\")\n",
    "faces,ids = getImagesAndLabels(path)\n",
    "recognizer.train(faces, np.array(ids))\n",
    "\n",
    "# Save the model into trainer/trainer.yml\n",
    "\n",
    "recognizer.write('trainer/trainer.yml') \n",
    "\n",
    "# Print the numer of faces trained and end program\n",
    "\n",
    "print(\"\\n {0} faces trained. Exiting Program\".format(len(np.unique(ids))))\n"
   ]
  },
  {
   "cell_type": "code",
   "execution_count": null,
   "id": "68e7cda7",
   "metadata": {},
   "outputs": [],
   "source": []
  }
 ],
 "metadata": {
  "kernelspec": {
   "display_name": "Python 3",
   "language": "python",
   "name": "python3"
  },
  "language_info": {
   "codemirror_mode": {
    "name": "ipython",
    "version": 3
   },
   "file_extension": ".py",
   "mimetype": "text/x-python",
   "name": "python",
   "nbconvert_exporter": "python",
   "pygments_lexer": "ipython3",
   "version": "3.8.8"
  }
 },
 "nbformat": 4,
 "nbformat_minor": 5
}
